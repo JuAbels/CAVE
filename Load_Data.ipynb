{
 "cells": [
  {
   "cell_type": "code",
   "execution_count": 1,
   "metadata": {},
   "outputs": [],
   "source": [
    "import torch\n",
    "from torch import nn\n",
    "from sklearn.preprocessing import OneHotEncoder, StandardScaler\n",
    "from sklearn import preprocessing\n",
    "import numpy as np\n",
    "import matplotlib.pyplot as plt\n",
    "import scipy.io\n",
    "from sklearn.metrics import euclidean_distances\n",
    "from cave.cavefacade import CAVE\n",
    "from ConfigSpace.util import impute_inactive_values\n",
    "from ConfigSpace import CategoricalHyperparameter, UniformFloatHyperparameter, UniformIntegerHyperparameter, OrdinalHyperparameter\n",
    "from cave.utils.helpers import combine_runhistories\n",
    "from cave.utils.helpers import create_random_runhistories, combine_random_local, create_new_rhs  # Julia BA\n",
    "import torchvision\n",
    "from torch.autograd import Variable\n",
    "\n",
    "import warnings\n",
    "import pickle\n",
    "import collections"
   ]
  },
  {
   "cell_type": "markdown",
   "metadata": {},
   "source": [
    "# Data"
   ]
  },
  {
   "cell_type": "markdown",
   "metadata": {},
   "source": [
    "## Cplex Data"
   ]
  },
  {
   "cell_type": "code",
   "execution_count": null,
   "metadata": {},
   "outputs": [],
   "source": [
    "cave_1 = CAVE(folders=[\"../DataForTesting/cplex_regions200/SMAC3/run-1/smac3-output_2019-03-15_09:55:14_185212/run_1/\"],\n",
    "            output_dir=\"./CAVE/Output/June/AutoEncoder/03_06_CAVE_cplex_jupyter_autoencoder/\",\n",
    "            ta_exec_dir=[\"../DataForTesting/cplex_regions200/SMAC3/run-1/\"],\n",
    "            file_format='SMAC3',\n",
    "            # verbose_level='DEBUG'\n",
    "           )\n",
    "\n",
    "print(\"Finished\")"
   ]
  },
  {
   "cell_type": "markdown",
   "metadata": {},
   "source": [
    "## Example data of CAVE"
   ]
  },
  {
   "cell_type": "code",
   "execution_count": null,
   "metadata": {},
   "outputs": [],
   "source": [
    "cave_2 = CAVE(folders=[\"../DataForTesting/clasp-3.0.4-p8_queens/SMAC3/run-1/smac3-output_2019-03-05_10:55:02_861701/run_1/\"],\n",
    "            output_dir=\"./CAVE/Output/June/AutoEncoder/11_06_CAVE_queen_jupyter_autoencoder/\",\n",
    "            ta_exec_dir=[\"../DataForTesting/clasp-3.0.4-p8_queens/SMAC3/run-1/\"],\n",
    "            file_format='SMAC3',    \n",
    "            )"
   ]
  },
  {
   "cell_type": "markdown",
   "metadata": {},
   "source": [
    "## Hartmann3"
   ]
  },
  {
   "cell_type": "code",
   "execution_count": null,
   "metadata": {},
   "outputs": [],
   "source": [
    "cave3 = CAVE(folders=[\"./examples/smac3/example_output/run_1/\"],\n",
    "            output_dir=\"./CAVE/Output/June/AutoEncoder/15_06_CAVE_queen_jupyter_autoencoder/\",\n",
    "            ta_exec_dir=[\"./examples/smac3/\"],\n",
    "            file_format='SMAC3',    \n",
    "            )"
   ]
  },
  {
   "cell_type": "markdown",
   "metadata": {},
   "source": [
    "# Load Data"
   ]
  },
  {
   "cell_type": "code",
   "execution_count": null,
   "metadata": {},
   "outputs": [],
   "source": [
    "scenario = cave.scenario\n",
    "from copy import deepcopy\n",
    "configspace = deepcopy(scenario.cs)\n",
    "\n",
    "runhistory = cave.global_original_rh\n",
    "training, transform = create_random_runhistories(runhistory)\n",
    "\n",
    "dicti = configspace._hyperparameters.items()"
   ]
  }
 ],
 "metadata": {
  "kernelspec": {
   "display_name": "Python 3",
   "language": "python",
   "name": "python3"
  },
  "language_info": {
   "codemirror_mode": {
    "name": "ipython",
    "version": 3
   },
   "file_extension": ".py",
   "mimetype": "text/x-python",
   "name": "python",
   "nbconvert_exporter": "python",
   "pygments_lexer": "ipython3",
   "version": "3.5.6"
  }
 },
 "nbformat": 4,
 "nbformat_minor": 2
}
